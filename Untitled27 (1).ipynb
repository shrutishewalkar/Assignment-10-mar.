{
 "cells": [
  {
   "cell_type": "markdown",
   "id": "372f0c71-0a85-4723-93ab-90f76dc3a8f0",
   "metadata": {},
   "source": [
    "Q1 What is Estimation Statistics? Explain point estimate and interval estimate."
   ]
  },
  {
   "cell_type": "markdown",
   "id": "d72e5cf2-6ffb-447a-a500-5de8910f1282",
   "metadata": {},
   "source": [
    "Estimation statistics is a branch of statistics that involves using data from a sample to make inferences about the population. The goal of estimation is to provide information about population parameters, such as the mean or proportion, based on a sample of data.\n",
    "\n",
    "There are two main types of estimates: point estimates and interval estimates.\n",
    "\n",
    "1. Point Estimate: A point estimate is a single value that is used to estimate a population parameter. It is obtained by using a sample statistic, such as the sample mean or sample proportion, to estimate the corresponding population parameter.\n",
    "\n",
    "2. Interval Estimate: An interval estimate, also called a confidence interval, is a range of values that is likely to contain the true population parameter with a certain level of confidence. It is obtained by using a sample statistic, such as the sample mean or sample proportion, to calculate an interval of values that is likely to contain the true population parameter."
   ]
  },
  {
   "cell_type": "markdown",
   "id": "698be69f-6d22-43a3-bb59-8f182d08a939",
   "metadata": {},
   "source": [
    "Q2 Write a Python function to estimate the population mean using a sample mean and standard deviation."
   ]
  },
  {
   "cell_type": "code",
   "execution_count": 1,
   "id": "812c4835-c25f-4b91-a8e8-0a90c9771dd0",
   "metadata": {},
   "outputs": [],
   "source": [
    "import math\n",
    "\n",
    "def population_mean(sample_mean, sample_std, sample_size):\n",
    "    std_error = sample_std / math.sqrt(sample_size)\n",
    "    z_value = 1.96 # assume a 95% confidence level and use the corresponding z-value\n",
    "    margin_of_error = z_value * std_error \n",
    "    lower_bound = sample_mean - margin_of_error \n",
    "    upper_bound = sample_mean + margin_of_error \n",
    "    return ((lower_bound + upper_bound) / 2)"
   ]
  },
  {
   "cell_type": "code",
   "execution_count": 2,
   "id": "9982b500-3fcd-4150-a229-55828f2e6114",
   "metadata": {},
   "outputs": [
    {
     "name": "stdout",
     "output_type": "stream",
     "text": [
      "Population mean: 2.0\n"
     ]
    }
   ],
   "source": [
    "result = population_mean(2,5,20000)\n",
    "\n",
    "print(f\"Population mean: {result}\")"
   ]
  },
  {
   "cell_type": "markdown",
   "id": "b1b62269-0eb1-44c5-8de1-2be7fe2ad1c2",
   "metadata": {},
   "source": [
    "Q3 What is Hypothesis testing? Why is it used? State the importance of Hypothesis testing."
   ]
  },
  {
   "cell_type": "markdown",
   "id": "260c7b9a-dace-4e5f-8502-103011f95c85",
   "metadata": {},
   "source": [
    "Ans: Hypothesis testing is a statistical method used to make decisions or draw conclusions about a population based on a sample of data. It involves comparing a hypothesis or claim about a population parameter (such as a mean or proportion) with the data from a sample, in order to determine if the hypothesis is likely to be true.\n",
    "\n",
    "Hypothesis testing is used to test the validity of a theory or claim.\n",
    "\n",
    "For example, in medical research, hypothesis testing can be used to determine if a new drug is effective in treating a disease by comparing its effects to a placebo. In business, hypothesis testing can be used to evaluate whether a new marketing strategy is effective in increasing sales.\n",
    "\n",
    "The importance of hypothesis testing lies in its ability to provide evidence for or against a theory or claim, and to help researchers make informed decisions based on data. It allows researchers to determine if an observed difference between groups or variables is statistically significant or simply due to chance, and to quantify the level of uncertainty in their findings. This can help researchers to draw conclusions that are based on evidence and minimize the risk of drawing incorrect or unsupported conclusions."
   ]
  },
  {
   "cell_type": "markdown",
   "id": "d812196e-bc49-4b20-b74e-c16a5d795a06",
   "metadata": {},
   "source": [
    "Q4 Create a hypothesis that states whether the average weight of male college students is greater than the average weight of female college students."
   ]
  },
  {
   "cell_type": "markdown",
   "id": "e8dafa3a-ea52-482e-8d2a-64544bccc6d5",
   "metadata": {},
   "source": [
    "The null hypothesis would be:\n",
    "\n",
    "\n",
    "H0: The average weight of male college students is not greater than the average weight of female college students.\n",
    "\n",
    "The alternative hypothesis would be:\n",
    "\n",
    "H1: The average weight of male college students is greater than the average weight of female college students."
   ]
  },
  {
   "cell_type": "markdown",
   "id": "b48994a7-8e83-4a2d-87dc-87d8b3813705",
   "metadata": {},
   "source": [
    "Q5 Write a Python script to conduct a hypothesis test on the difference between two population means, given a sample from each population."
   ]
  },
  {
   "cell_type": "code",
   "execution_count": 3,
   "id": "b0b07c51-b20d-41b3-8d7e-9b55c7c87ad3",
   "metadata": {},
   "outputs": [
    {
     "name": "stdout",
     "output_type": "stream",
     "text": [
      "t-statistic:  -5.299332922041115\n",
      "p-value:  3.0842905687647643e-07\n",
      "Reject null hypothesis\n"
     ]
    }
   ],
   "source": [
    "import numpy as np\n",
    "from scipy.stats import ttest_ind\n",
    "\n",
    "# create two random samples\n",
    "sample1 = np.random.normal(10, 2, 100)\n",
    "sample2 = np.random.normal(12, 2, 100)\n",
    "\n",
    "# conduct t-test\n",
    "t_stat, p_val = ttest_ind(sample1, sample2)\n",
    "\n",
    "# print results\n",
    "print(\"t-statistic: \", t_stat)\n",
    "print(\"p-value: \", p_val)\n",
    "\n",
    "# check if p-value is significant at 5% level\n",
    "if p_val < 0.05:\n",
    "    print(\"Reject null hypothesis\")\n",
    "else:\n",
    "    print(\"Fail to reject null hypothesis\")"
   ]
  },
  {
   "cell_type": "markdown",
   "id": "8f8e9fbd-c951-4627-b738-d3aca0ac79ad",
   "metadata": {},
   "source": [
    "Q6 What is a null and alternative hypothesis? Give some examples."
   ]
  },
  {
   "cell_type": "markdown",
   "id": "bc75b70b-feab-4456-8fec-f5b749a5a8c1",
   "metadata": {},
   "source": [
    "The null hypothesis (H0) states that there is no significant difference between two populations or variables. It is often the default or conventional position and is tested against the alternative hypothesis. In other words, it is the claim that researchers aim to reject or fail to reject based on the evidence from the data.\n",
    "\n",
    "The alternative hypothesis (H1) is the complement of the null hypothesis and states that there is a significant difference between two populations or variables. It represents the claim that researchers seek to support or prove based on the evidence from the data.\n",
    "\n",
    "Examples:\n",
    "\n",
    "1. Null hypothesis: The average IQ scores of two groups of students are equal.\n",
    "   Alternative hypothesis: The average IQ score of one group of      students is significantly different from the other group.\n",
    "\n",
    "2. Null hypothesis: The new drug has no effect on curing a disease.\n",
    "Alternative hypothesis: The new drug is significantly more effective in curing the disease than the current drug."
   ]
  },
  {
   "cell_type": "markdown",
   "id": "942c6c2c-cec6-4f2e-a9ed-8f4939ae67fc",
   "metadata": {},
   "source": [
    "Q7 Write down the steps involved in hypothesis testing."
   ]
  },
  {
   "cell_type": "markdown",
   "id": "30675945-b70a-47c4-b234-bb84bdc67c62",
   "metadata": {},
   "source": [
    "The general steps involved in hypothesis testing are:\n",
    "\n",
    "1. State the null and alternative hypotheses: Identify the research question and define the null and alternative hypotheses that represent the possible outcomes.\n",
    "2. Determine the test statistic: Choose an appropriate statistical test (e.g., t-test, ANOVA, chi-square) based on the research question and data type, and calculate the test statistic using the sample data.\n",
    "3. Set the significance level: Determine the level of significance (alpha) to use for the test. This is the probability of rejecting the null hypothesis when it is true and is typically set at 0.05.\n",
    "4. Calculate the p-value: Calculate the probability of observing the test statistic or a more extreme value under the null hypothesis.\n",
    "5. Make a decision: Compare the p-value to the significance level and make a decision whether to reject or fail to reject the null hypothesis. If the p-value is less than or equal to the significance level, reject the null hypothesis; otherwise, fail to reject the null hypothesis."
   ]
  },
  {
   "cell_type": "markdown",
   "id": "9b3e3de4-51cf-460e-abe3-4f512f703c2c",
   "metadata": {},
   "source": [
    "Q8Define p-value and explain its significance in hypothesis testing."
   ]
  },
  {
   "cell_type": "markdown",
   "id": "eecf22fa-89c8-45ff-9d8a-4bd6767c96fd",
   "metadata": {},
   "source": [
    "The p-value in hypothesis testing is the probability of observing a test statistic or a more extreme value, given that the null hypothesis is true. In other words, it is the probability of obtaining the observed data or more extreme data if the null hypothesis is true.\n",
    "The p-value provides a measure of the strength of evidence against the null hypothesis. A small p-value indicates strong evidence against the null hypothesis, while a large p-value indicates weak evidence against the null hypothesis.\n",
    "\n",
    "The p-value is a key component of hypothesis testing because it helps researchers make decisions about the null hypothesis. If the p-value is small (e.g., less than or equal to the significance level), it suggests that the observed data is unlikely to have occurred by chance under the null hypothesis, and the null hypothesis is rejected. If the p-value is large (e.g., greater than the significance level), it suggests that the observed data is consistent with the null hypothesis, and the null hypothesis is not rejected."
   ]
  },
  {
   "cell_type": "markdown",
   "id": "bb134968-0c30-49d2-83a6-82d6d10b872b",
   "metadata": {},
   "source": [
    "Q10 Generate a Student's t-distribution plot using Python's matplotlib library, with the degrees of freedom parameter set to 10."
   ]
  },
  {
   "cell_type": "code",
   "execution_count": 4,
   "id": "873f2883-ed95-45d0-821e-3362d1c24762",
   "metadata": {},
   "outputs": [
    {
     "data": {
      "text/plain": [
       "(array([1.54380764e-04, 0.00000000e+00, 0.00000000e+00, 6.17523057e-04,\n",
       "        1.54380764e-03, 5.86646905e-03, 1.48205534e-02, 4.78580370e-02,\n",
       "        1.18255666e-01, 2.49016173e-01, 3.66963077e-01, 3.51525000e-01,\n",
       "        2.24006489e-01, 1.08220916e-01, 3.79776680e-02, 1.03435112e-02,\n",
       "        3.70513834e-03, 2.16133070e-03, 6.17523057e-04, 1.54380764e-04]),\n",
       " array([-7.06244491, -6.41469582, -5.76694673, -5.11919764, -4.47144855,\n",
       "        -3.82369945, -3.17595036, -2.52820127, -1.88045218, -1.23270308,\n",
       "        -0.58495399,  0.0627951 ,  0.71054419,  1.35829329,  2.00604238,\n",
       "         2.65379147,  3.30154056,  3.94928966,  4.59703875,  5.24478784,\n",
       "         5.89253693]),\n",
       " <BarContainer object of 20 artists>)"
      ]
     },
     "execution_count": 4,
     "metadata": {},
     "output_type": "execute_result"
    },
    {
     "data": {
      "image/png": "[encoded data removed]",
      "text/plain": [
       "<Figure size 640x480 with 1 Axes>"
      ]
     },
     "metadata": {},
     "output_type": "display_data"
    }
   ],
   "source": [
    "from scipy.stats import t\n",
    "import matplotlib.pyplot as plt\n",
    "\n",
    "#generate t distribution with sample size 10000\n",
    "x = t.rvs(df=10, size=10000)\n",
    "\n",
    "plt.hist(x, density=True, edgecolor='black', bins=20)"
   ]
  },
  {
   "cell_type": "markdown",
   "id": "c35b71b6-1748-4626-a5bb-bbd4e8b9cd64",
   "metadata": {},
   "source": [
    "Q10 Write a Python program to calculate the two-sample t-test for independent samples, given two random samples of equal size and a null hypothesis that the population means are equal."
   ]
  },
  {
   "cell_type": "code",
   "execution_count": 5,
   "id": "8daed0b6-a569-4f5e-961f-a8cb8c4b4955",
   "metadata": {},
   "outputs": [
    {
     "name": "stdout",
     "output_type": "stream",
     "text": [
      "t-test statistic: -7.788119633592911\n",
      "p-value: 3.7297757716797496e-13\n",
      "Reject the null hypothesis\n"
     ]
    }
   ],
   "source": [
    "import numpy as np\n",
    "from scipy.stats import ttest_ind\n",
    "\n",
    "sample1 = np.random.normal(10, 2, 100)\n",
    "sample2 = np.random.normal(12, 2, 100)\n",
    "\n",
    "#calculate the t-test statistic and p-value\n",
    "t_statistic, p_value = ttest_ind(sample1, sample2)\n",
    "\n",
    "print(\"t-test statistic:\", t_statistic)\n",
    "print(\"p-value:\", p_value)\n",
    "\n",
    "#compare the p-value to the significance level\n",
    "alpha = 0.05\n",
    "if p_value < alpha:\n",
    "    print(\"Reject the null hypothesis\")\n",
    "else:\n",
    "    print(\"Fail to reject the null hypothesis\")"
   ]
  },
  {
   "cell_type": "markdown",
   "id": "bea63815-867f-4617-a05b-dce15672597f",
   "metadata": {},
   "source": [
    "Q11 What is Student’s t distribution? When to use the t-Distribution."
   ]
  },
  {
   "cell_type": "markdown",
   "id": "f16b9059-6f78-4206-95a3-2a340f1414f1",
   "metadata": {},
   "source": [
    "Student's t distribution is a probability distribution that is used in hypothesis testing when the sample size is small and the population standard deviation is unknown.\n",
    "It is similar to the standard normal distribution (z-distribution), but has heavier tails, which means it has more probability in the tails and less in the center compared to the standard normal distribution. The shape of the t-distribution depends on the sample size, with smaller sample sizes resulting in a more spread-out distribution.\n",
    "\n",
    "3The t-distribution is used in situations where the population standard deviation is unknown and must be estimated from the sample data.\n",
    "It is also used when the sample size is small (typically less than 30) and the population is normally distributed. The t-distribution allows for greater uncertainty in the estimate of the population standard deviation due to the smaller sample size."
   ]
  },
  {
   "cell_type": "markdown",
   "id": "331fbe8d-5437-4996-9c2b-91f3c0701076",
   "metadata": {},
   "source": [
    "Q12 What is t-statistic? State the formula for t-statistic."
   ]
  },
  {
   "cell_type": "markdown",
   "id": "9b29eb00-818f-4ac9-bec1-2ee30c6b6f85",
   "metadata": {},
   "source": [
    "The t-statistic is a measure of how many standard errors the sample mean is from the hypothesized population mean, under the assumption that the population variance is unknown and must be estimated from the sample data. It is used in hypothesis testing to determine whether the difference between the sample mean and the hypothesized population mean is statistically significant.\n",
    "\n",
    "The formula for the t-statistic is:\n",
    "t = (x̄ - μ) / (s / √n)\n",
    "\n",
    "where:\n",
    "x̄ is the sample mean\n",
    "μ is the hypothesized population mean\n",
    "s is the sample standard deviation\n",
    "n is the sample size\n",
    "√n is the square root of the sample size"
   ]
  },
  {
   "cell_type": "markdown",
   "id": "a30f93ff-b398-422c-b634-179fb2ef265f",
   "metadata": {},
   "source": [
    "Q13 A coffee shop owner wants to estimate the average daily revenue for their shop. They take a random sample of 50 days and find the sample mean revenue to be 500 dollars with a standard deviation of 50 dollars. Estimate the population mean revenue with a 95% confidence interval."
   ]
  },
  {
   "cell_type": "markdown",
   "id": "f21e1f19-e944-4e79-aa46-49cd2930660a",
   "metadata": {},
   "source": [
    "To estimate the population mean revenue with a 95% confidence interval, we can use the following formula:\n",
    "\n",
    "Confidence Interval = sample mean ± margin of error\n",
    "\n",
    "where the margin of error is given by:\n",
    "\n",
    "Margin of Error = critical value * standard error\n",
    "\n",
    "The standard error is the standard deviation of the sample divided by the square root of the sample size:\n",
    "\n",
    "Standard Error = standard deviation / sqrt(sample size)\n",
    "\n",
    "Substituting the values given in the problem statement, we get:\n",
    "\n",
    "Standard Error = 50 / sqrt(50) = 7.07\n",
    "\n",
    "Margin of Error = 1.96 * 7.07 = 13.85\n",
    "\n",
    "Therefore, the 95% confidence interval for the population mean revenue is:\n",
    "\n",
    "500 ± 13.85, or (486.15, 513.85)\n",
    "\n",
    "We can be 95% confident that the true population mean revenue falls within this interval."
   ]
  },
  {
   "cell_type": "markdown",
   "id": "6c613611-a831-428b-9de7-26e3b4998783",
   "metadata": {},
   "source": [
    "Q14 A researcher hypothesizes that a new drug will decrease blood pressure by 10 mmHg. They conduct a clinical trial with 100 patients and find that the sample mean decrease in blood pressure is 8 mmHg with a standard deviation of 3 mmHg. Test the hypothesis with a significance level of 0.05."
   ]
  },
  {
   "cell_type": "markdown",
   "id": "b3c05237-1db9-4d0d-9c39-227ed0b42543",
   "metadata": {},
   "source": [
    "The following values are given in the question:\n",
    "\n",
    "Population Mean = 10\n",
    "Sample Size = n = 100\n",
    "Sample Mean = 8\n",
    "Standard Deviation = 3\n",
    "Significance Level = 0.05\n",
    "Confidence Interval = 0.95\n",
    "\n",
    "My null and alternate hypothesis are as follows:\n",
    "\n",
    "Null Hypothesis = H0 => Population Mean = 10\n",
    "Alternate Hypothesis = H1 => Population Mean != 10\n",
    "\n",
    "From utilizing z-table i obgtained values for z-score:\n",
    "\n",
    "z-score = ± 1.96\n",
    "\n",
    "I got the following value:\n",
    "\n",
    "-0.66"
   ]
  },
  {
   "cell_type": "markdown",
   "id": "94a8ade4-e4d1-4c7a-8611-e5df16b43e12",
   "metadata": {},
   "source": [
    "As -0.66 lies outside the region ± 1.96, that means it lies in the rejection region.\n",
    "So my final conclusion was:\n",
    "\n",
    "\n",
    "Reject the null hypothesis"
   ]
  },
  {
   "cell_type": "markdown",
   "id": "2a53d298-f564-489d-9c56-c9693db0a7c2",
   "metadata": {},
   "source": [
    "Q15 An electronics company produces a certain type of product with a mean weight of 5 pounds and a standard deviation of 0.5 pounds. A random sample of 25 products is taken, and the sample mean weight is found to be 4.8 pounds. Test the hypothesis that the true mean weight of the products is less than 5 pounds with a significance level of 0.01."
   ]
  },
  {
   "cell_type": "markdown",
   "id": "595896a1-cc7d-49fb-9034-89881c754608",
   "metadata": {},
   "source": [
    "The following values are given in the question:\n",
    "\n",
    "Population Mean = 5\n",
    "Sample Size = n = 25\n",
    "Sample Mean = 4.8\n",
    "Standard Deviation = 0.5\n",
    "Significance Level = 0.01\n",
    "Confidence Interval = 0.99\n",
    "\n",
    "My null and alternate hypothesis are as follows:\n",
    "\n",
    "Null Hypothesis = H0 => Population Mean = 5\n",
    "Alternate Hypothesis = H1 => Population Mean < 5\n",
    "\n",
    "\n",
    "I got the following value:\n",
    "\n",
    "-2\n",
    "\n",
    "From utilizing z-table i obgtained values for z-score of -2:\n",
    "\n",
    "z-score = 0.02275\n",
    "\n",
    "Which also becomes my p-value:\n",
    "\n",
    "p-value = 0.02275"
   ]
  },
  {
   "cell_type": "markdown",
   "id": "15b57181-6641-46e6-ab82-ae7a222bc6b3",
   "metadata": {},
   "source": [
    "Then i checked whether p-value < significance value\n",
    "\n",
    "0.02775 < 0.01\n",
    "False\n",
    "\n",
    "So my final conclusion was:\n",
    "\n",
    "Failed to reject null hypothesis"
   ]
  },
  {
   "cell_type": "markdown",
   "id": "946a8479-b547-4f52-b9ac-8e9b3492572e",
   "metadata": {},
   "source": [
    "Q16 Two groups of students are given different study materials to prepare for a test. The first group (n1 = 30) has a mean score of 80 with a standard deviation of 10, and the second group (n2 = 40) has a mean score of 75 with a standard deviation of 8. Test the hypothesis that the population means for the two groups are equal with a significance level of 0.01."
   ]
  },
  {
   "cell_type": "markdown",
   "id": "b6231a3a-13fa-47ae-9387-709fcf733e01",
   "metadata": {},
   "source": [
    "My null and alternate hypothesis are as follows:\n",
    "\n",
    "Null Hypothesis = H0 => Population Mean of Group 1 = \n",
    "Population Mean of Group 2\n",
    "Alternate Hypothesis = H1 => Population Mean of Group 1 != \n",
    "Population Mean of Group 2\n",
    "\n",
    "\n",
    "\n",
    "I got the value of t as:\n",
    "\n",
    "t = 2.37\n",
    "\n",
    "Then I utilized t-table to look for the value of t for the following parameters:\n",
    "\n",
    "Degrees of Freedom = 68\n",
    "\n",
    "Significance Value = 0.01\n",
    "\n",
    "I got the following value of t fromt the table:\n",
    "\n",
    "t = ± 2.638"
   ]
  },
  {
   "cell_type": "markdown",
   "id": "7ed901e9-824a-488e-bb36-e3a65b6ae118",
   "metadata": {},
   "source": [
    "Since 2.37 lies in the region ±2.638 so, the final conclusion was:\n",
    "\n",
    "Failed to reject null hypothesis\n",
    "\n",
    "Population mean for two groups are equal"
   ]
  },
  {
   "cell_type": "markdown",
   "id": "d43bcd05-c716-4d56-b3ec-667296edf6a8",
   "metadata": {},
   "source": [
    "Q17 A marketing company wants to estimate the average number of ads watched by viewers during a TV program. They take a random sample of 50 viewers and find that the sample mean is 4 with a standard deviation of 1.5. Estimate the population mean with a 99% confidence interval."
   ]
  },
  {
   "cell_type": "markdown",
   "id": "16bc93b4-5128-492f-824f-9878332b2c93",
   "metadata": {},
   "source": [
    "To estimate the population mean with a 99% confidence interval, we can use the following formula:\n",
    "\n",
    "CI = X̄ ± z*(σ/√n)\n",
    "\n",
    "Where:\n",
    "\n",
    "X̄ = sample mean (4)\n",
    "\n",
    "z = z-score corresponding to the confidence level (99%)\n",
    "\n",
    "σ = population standard deviation (1.5)\n",
    "\n",
    "n = sample size (50)\n",
    "\n",
    "To find the z-score, we can use a standard normal distribution table. For a 99% confidence level, the z-score is\n",
    "\n",
    "\n",
    "z-score = 2.576.\n",
    "\n",
    "\n",
    "Plugging in the values, we get:\n",
    "\n",
    "CI = 4 ± 2.576*(1.5/√50)\n",
    "\n",
    "CI = 4 ± 0.665\n",
    "\n",
    "Therefore, the 99% confidence interval for the population mean of the number of ads watched by viewers during a TV program is (3.335, 4.665). We are 99% confident that the true population mean falls within this interval."
   ]
  },
  {
   "cell_type": "code",
   "execution_count": null,
   "id": "b165f1a7-bea1-4851-bb39-bcccb7cf72c4",
   "metadata": {},
   "outputs": [],
   "source": []
  }
 ],
 "metadata": {
  "kernelspec": {
   "display_name": "Python 3 (ipykernel)",
   "language": "python",
   "name": "python3"
  },
  "language_info": {
   "codemirror_mode": {
    "name": "ipython",
    "version": 3
   },
   "file_extension": ".py",
   "mimetype": "text/x-python",
   "name": "python",
   "nbconvert_exporter": "python",
   "pygments_lexer": "ipython3",
   "version": "3.10.8"
  }
 },
 "nbformat": 4,
 "nbformat_minor": 5
}
